{
  "cells": [
    {
      "cell_type": "markdown",
      "metadata": {
        "id": "view-in-github",
        "colab_type": "text"
      },
      "source": [
        "<a href=\"https://colab.research.google.com/github/aroraChiraag/BDB650/blob/main/WS1.ipynb\" target=\"_parent\"><img src=\"https://colab.research.google.com/assets/colab-badge.svg\" alt=\"Open In Colab\"/></a>"
      ]
    },
    {
      "cell_type": "markdown",
      "source": [
        "![SenecaSDDS.jpg](data:image/jpeg;base64,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)"
      ],
      "metadata": {
        "id": "4kqV9ncjbdBA"
      }
    },
    {
      "cell_type": "markdown",
      "source": [
        "# **Business Analytics**\n",
        "## **Workshop1-PartFive**\n",
        "## Student Names \n",
        "## Manreet Kaur and Chirag Arora"
      ],
      "metadata": {
        "id": "iU1yU8tfhIb3"
      }
    },
    {
      "cell_type": "markdown",
      "metadata": {
        "id": "K9N-OVKEMZ8K"
      },
      "source": [
        "## Score Prediction Model\n",
        "### - Problem Statement:\n",
        "What will be predicted score if a student studies for 9.25 hrs in a day?\n",
        "\n",
        "### - Approach:\n",
        "In this part, we will predict the percentage of marks using linear regression that students are expected to score based on the number of hours they studied. You will implement a simple linear regression task as it involves just two variables."
      ]
    },
    {
      "cell_type": "code",
      "execution_count": null,
      "metadata": {
        "id": "pVNq0rR8MZ8M"
      },
      "outputs": [],
      "source": [
        "# Loading neccesary libraries:\n",
        "import pandas as pd\n",
        "import numpy as np\n",
        "import matplotlib.pyplot as plt\n",
        "import seaborn as sns\n",
        "from sklearn import metrics\n",
        "from sklearn.model_selection import train_test_split\n",
        "from sklearn.linear_model import LinearRegression"
      ]
    },
    {
      "cell_type": "code",
      "source": [
        "import warnings\n",
        "warnings.filterwarnings('ignore')\n",
        "from pandas.plotting import parallel_coordinates\n",
        "import matplotlib.pyplot as plt\n",
        "plt.style.use('default')"
      ],
      "metadata": {
        "id": "Yyxo1oZFIfQj"
      },
      "execution_count": null,
      "outputs": []
    },
    {
      "cell_type": "code",
      "source": [
        "%matplotlib inline\n",
        "# without this the plots would be opened  in a new window (not browser)\n",
        "# with this instruction plots will be included in the notebook"
      ],
      "metadata": {
        "id": "srdvJ1cEcufT"
      },
      "execution_count": null,
      "outputs": []
    },
    {
      "cell_type": "code",
      "source": [
        "# Use %config InlineBackend.figure_format = 'retina' \n",
        "# after %matplotlib inline to render higher resolution images\n",
        "%config InlineBackend.figure_format = 'retina'"
      ],
      "metadata": {
        "id": "KgZ178t-cydi"
      },
      "execution_count": null,
      "outputs": []
    },
    {
      "cell_type": "code",
      "source": [
        "# If you wish to use Google colab, the following code will allow you to mount your Google Drive. Otherwise, comment on the following lines.\n",
        "from google.colab import drive\n",
        "drive.mount('/content/gdrive')"
      ],
      "metadata": {
        "id": "sjjBGps4c1gK",
        "colab": {
          "base_uri": "https://localhost:8080/"
        },
        "outputId": "a2d659d7-0042-41ea-d3fe-30e822e80c87"
      },
      "execution_count": null,
      "outputs": [
        {
          "output_type": "stream",
          "name": "stdout",
          "text": [
            "Mounted at /content/gdrive\n"
          ]
        }
      ]
    },
    {
      "cell_type": "code",
      "source": [
        "# To print multiple outputs\n",
        "from IPython.core.interactiveshell import InteractiveShell\n",
        "InteractiveShell.ast_node_interactivity = 'all'"
      ],
      "metadata": {
        "id": "m6pO19ymApx2"
      },
      "execution_count": null,
      "outputs": []
    },
    {
      "cell_type": "code",
      "execution_count": null,
      "metadata": {
        "id": "K8cePgDmMZ8O",
        "colab": {
          "base_uri": "https://localhost:8080/",
          "height": 478
        },
        "outputId": "dfbbd8db-0063-46eb-b5f9-cbf988c29b3e"
      },
      "outputs": [
        {
          "output_type": "stream",
          "name": "stdout",
          "text": [
            "Data imported successfully\n"
          ]
        },
        {
          "output_type": "execute_result",
          "data": {
            "text/plain": [
              "   Hours  Scores\n",
              "0    2.5      21\n",
              "1    5.1      47\n",
              "2    3.2      27\n",
              "3    8.5      75\n",
              "4    3.5      30\n",
              "5    1.5      20\n",
              "6    9.2      88\n",
              "7    5.5      60\n",
              "8    8.3      81\n",
              "9    2.7      25"
            ],
            "text/html": [
              "\n",
              "  <div id=\"df-57a6545a-9a54-4af1-8c66-f62923921572\">\n",
              "    <div class=\"colab-df-container\">\n",
              "      <div>\n",
              "<style scoped>\n",
              "    .dataframe tbody tr th:only-of-type {\n",
              "        vertical-align: middle;\n",
              "    }\n",
              "\n",
              "    .dataframe tbody tr th {\n",
              "        vertical-align: top;\n",
              "    }\n",
              "\n",
              "    .dataframe thead th {\n",
              "        text-align: right;\n",
              "    }\n",
              "</style>\n",
              "<table border=\"1\" class=\"dataframe\">\n",
              "  <thead>\n",
              "    <tr style=\"text-align: right;\">\n",
              "      <th></th>\n",
              "      <th>Hours</th>\n",
              "      <th>Scores</th>\n",
              "    </tr>\n",
              "  </thead>\n",
              "  <tbody>\n",
              "    <tr>\n",
              "      <th>0</th>\n",
              "      <td>2.5</td>\n",
              "      <td>21</td>\n",
              "    </tr>\n",
              "    <tr>\n",
              "      <th>1</th>\n",
              "      <td>5.1</td>\n",
              "      <td>47</td>\n",
              "    </tr>\n",
              "    <tr>\n",
              "      <th>2</th>\n",
              "      <td>3.2</td>\n",
              "      <td>27</td>\n",
              "    </tr>\n",
              "    <tr>\n",
              "      <th>3</th>\n",
              "      <td>8.5</td>\n",
              "      <td>75</td>\n",
              "    </tr>\n",
              "    <tr>\n",
              "      <th>4</th>\n",
              "      <td>3.5</td>\n",
              "      <td>30</td>\n",
              "    </tr>\n",
              "    <tr>\n",
              "      <th>5</th>\n",
              "      <td>1.5</td>\n",
              "      <td>20</td>\n",
              "    </tr>\n",
              "    <tr>\n",
              "      <th>6</th>\n",
              "      <td>9.2</td>\n",
              "      <td>88</td>\n",
              "    </tr>\n",
              "    <tr>\n",
              "      <th>7</th>\n",
              "      <td>5.5</td>\n",
              "      <td>60</td>\n",
              "    </tr>\n",
              "    <tr>\n",
              "      <th>8</th>\n",
              "      <td>8.3</td>\n",
              "      <td>81</td>\n",
              "    </tr>\n",
              "    <tr>\n",
              "      <th>9</th>\n",
              "      <td>2.7</td>\n",
              "      <td>25</td>\n",
              "    </tr>\n",
              "  </tbody>\n",
              "</table>\n",
              "</div>\n",
              "      <button class=\"colab-df-convert\" onclick=\"convertToInteractive('df-57a6545a-9a54-4af1-8c66-f62923921572')\"\n",
              "              title=\"Convert this dataframe to an interactive table.\"\n",
              "              style=\"display:none;\">\n",
              "        \n",
              "  <svg xmlns=\"http://www.w3.org/2000/svg\" height=\"24px\"viewBox=\"0 0 24 24\"\n",
              "       width=\"24px\">\n",
              "    <path d=\"M0 0h24v24H0V0z\" fill=\"none\"/>\n",
              "    <path d=\"M18.56 5.44l.94 2.06.94-2.06 2.06-.94-2.06-.94-.94-2.06-.94 2.06-2.06.94zm-11 1L8.5 8.5l.94-2.06 2.06-.94-2.06-.94L8.5 2.5l-.94 2.06-2.06.94zm10 10l.94 2.06.94-2.06 2.06-.94-2.06-.94-.94-2.06-.94 2.06-2.06.94z\"/><path d=\"M17.41 7.96l-1.37-1.37c-.4-.4-.92-.59-1.43-.59-.52 0-1.04.2-1.43.59L10.3 9.45l-7.72 7.72c-.78.78-.78 2.05 0 2.83L4 21.41c.39.39.9.59 1.41.59.51 0 1.02-.2 1.41-.59l7.78-7.78 2.81-2.81c.8-.78.8-2.07 0-2.86zM5.41 20L4 18.59l7.72-7.72 1.47 1.35L5.41 20z\"/>\n",
              "  </svg>\n",
              "      </button>\n",
              "      \n",
              "  <style>\n",
              "    .colab-df-container {\n",
              "      display:flex;\n",
              "      flex-wrap:wrap;\n",
              "      gap: 12px;\n",
              "    }\n",
              "\n",
              "    .colab-df-convert {\n",
              "      background-color: #E8F0FE;\n",
              "      border: none;\n",
              "      border-radius: 50%;\n",
              "      cursor: pointer;\n",
              "      display: none;\n",
              "      fill: #1967D2;\n",
              "      height: 32px;\n",
              "      padding: 0 0 0 0;\n",
              "      width: 32px;\n",
              "    }\n",
              "\n",
              "    .colab-df-convert:hover {\n",
              "      background-color: #E2EBFA;\n",
              "      box-shadow: 0px 1px 2px rgba(60, 64, 67, 0.3), 0px 1px 3px 1px rgba(60, 64, 67, 0.15);\n",
              "      fill: #174EA6;\n",
              "    }\n",
              "\n",
              "    [theme=dark] .colab-df-convert {\n",
              "      background-color: #3B4455;\n",
              "      fill: #D2E3FC;\n",
              "    }\n",
              "\n",
              "    [theme=dark] .colab-df-convert:hover {\n",
              "      background-color: #434B5C;\n",
              "      box-shadow: 0px 1px 3px 1px rgba(0, 0, 0, 0.15);\n",
              "      filter: drop-shadow(0px 1px 2px rgba(0, 0, 0, 0.3));\n",
              "      fill: #FFFFFF;\n",
              "    }\n",
              "  </style>\n",
              "\n",
              "      <script>\n",
              "        const buttonEl =\n",
              "          document.querySelector('#df-57a6545a-9a54-4af1-8c66-f62923921572 button.colab-df-convert');\n",
              "        buttonEl.style.display =\n",
              "          google.colab.kernel.accessAllowed ? 'block' : 'none';\n",
              "\n",
              "        async function convertToInteractive(key) {\n",
              "          const element = document.querySelector('#df-57a6545a-9a54-4af1-8c66-f62923921572');\n",
              "          const dataTable =\n",
              "            await google.colab.kernel.invokeFunction('convertToInteractive',\n",
              "                                                     [key], {});\n",
              "          if (!dataTable) return;\n",
              "\n",
              "          const docLinkHtml = 'Like what you see? Visit the ' +\n",
              "            '<a target=\"_blank\" href=https://colab.research.google.com/notebooks/data_table.ipynb>data table notebook</a>'\n",
              "            + ' to learn more about interactive tables.';\n",
              "          element.innerHTML = '';\n",
              "          dataTable['output_type'] = 'display_data';\n",
              "          await google.colab.output.renderOutput(dataTable, element);\n",
              "          const docLink = document.createElement('div');\n",
              "          docLink.innerHTML = docLinkHtml;\n",
              "          element.appendChild(docLink);\n",
              "        }\n",
              "      </script>\n",
              "    </div>\n",
              "  </div>\n",
              "  "
            ]
          },
          "metadata": {},
          "execution_count": 7
        },
        {
          "output_type": "execute_result",
          "data": {
            "text/plain": [
              "Index(['Hours', 'Scores'], dtype='object')"
            ]
          },
          "metadata": {},
          "execution_count": 7
        },
        {
          "output_type": "stream",
          "name": "stdout",
          "text": [
            "\n",
            "\n",
            "\n"
          ]
        },
        {
          "output_type": "execute_result",
          "data": {
            "text/plain": [
              "Hours     float64\n",
              "Scores      int64\n",
              "dtype: object"
            ]
          },
          "metadata": {},
          "execution_count": 7
        }
      ],
      "source": [
        "#Reading the data from google drive\n",
        "data=pd.read_csv('gdrive/My Drive/Colab Notebooks/WS1/ws1data/WS1DataSet.csv')\n",
        "#Print that data imported successfully\n",
        "print(\"Data imported successfully\")\n",
        "data.head(10)\n",
        "data.columns\n",
        "print('\\n\\n')\n",
        "data.dtypes"
      ]
    },
    {
      "cell_type": "code",
      "execution_count": null,
      "metadata": {
        "id": "tPQn9o2SMZ8P",
        "colab": {
          "base_uri": "https://localhost:8080/",
          "height": 297
        },
        "outputId": "593bfdf3-cc32-465c-ec12-ca645e083ba6"
      },
      "outputs": [
        {
          "output_type": "execute_result",
          "data": {
            "text/plain": [
              "           Hours     Scores\n",
              "count  25.000000  25.000000\n",
              "mean    5.012000  51.480000\n",
              "std     2.525094  25.286887\n",
              "min     1.100000  17.000000\n",
              "25%     2.700000  30.000000\n",
              "50%     4.800000  47.000000\n",
              "75%     7.400000  75.000000\n",
              "max     9.200000  95.000000"
            ],
            "text/html": [
              "\n",
              "  <div id=\"df-ffa7dff0-bc7f-48bd-bfa0-5dd90f7b7a8c\">\n",
              "    <div class=\"colab-df-container\">\n",
              "      <div>\n",
              "<style scoped>\n",
              "    .dataframe tbody tr th:only-of-type {\n",
              "        vertical-align: middle;\n",
              "    }\n",
              "\n",
              "    .dataframe tbody tr th {\n",
              "        vertical-align: top;\n",
              "    }\n",
              "\n",
              "    .dataframe thead th {\n",
              "        text-align: right;\n",
              "    }\n",
              "</style>\n",
              "<table border=\"1\" class=\"dataframe\">\n",
              "  <thead>\n",
              "    <tr style=\"text-align: right;\">\n",
              "      <th></th>\n",
              "      <th>Hours</th>\n",
              "      <th>Scores</th>\n",
              "    </tr>\n",
              "  </thead>\n",
              "  <tbody>\n",
              "    <tr>\n",
              "      <th>count</th>\n",
              "      <td>25.000000</td>\n",
              "      <td>25.000000</td>\n",
              "    </tr>\n",
              "    <tr>\n",
              "      <th>mean</th>\n",
              "      <td>5.012000</td>\n",
              "      <td>51.480000</td>\n",
              "    </tr>\n",
              "    <tr>\n",
              "      <th>std</th>\n",
              "      <td>2.525094</td>\n",
              "      <td>25.286887</td>\n",
              "    </tr>\n",
              "    <tr>\n",
              "      <th>min</th>\n",
              "      <td>1.100000</td>\n",
              "      <td>17.000000</td>\n",
              "    </tr>\n",
              "    <tr>\n",
              "      <th>25%</th>\n",
              "      <td>2.700000</td>\n",
              "      <td>30.000000</td>\n",
              "    </tr>\n",
              "    <tr>\n",
              "      <th>50%</th>\n",
              "      <td>4.800000</td>\n",
              "      <td>47.000000</td>\n",
              "    </tr>\n",
              "    <tr>\n",
              "      <th>75%</th>\n",
              "      <td>7.400000</td>\n",
              "      <td>75.000000</td>\n",
              "    </tr>\n",
              "    <tr>\n",
              "      <th>max</th>\n",
              "      <td>9.200000</td>\n",
              "      <td>95.000000</td>\n",
              "    </tr>\n",
              "  </tbody>\n",
              "</table>\n",
              "</div>\n",
              "      <button class=\"colab-df-convert\" onclick=\"convertToInteractive('df-ffa7dff0-bc7f-48bd-bfa0-5dd90f7b7a8c')\"\n",
              "              title=\"Convert this dataframe to an interactive table.\"\n",
              "              style=\"display:none;\">\n",
              "        \n",
              "  <svg xmlns=\"http://www.w3.org/2000/svg\" height=\"24px\"viewBox=\"0 0 24 24\"\n",
              "       width=\"24px\">\n",
              "    <path d=\"M0 0h24v24H0V0z\" fill=\"none\"/>\n",
              "    <path d=\"M18.56 5.44l.94 2.06.94-2.06 2.06-.94-2.06-.94-.94-2.06-.94 2.06-2.06.94zm-11 1L8.5 8.5l.94-2.06 2.06-.94-2.06-.94L8.5 2.5l-.94 2.06-2.06.94zm10 10l.94 2.06.94-2.06 2.06-.94-2.06-.94-.94-2.06-.94 2.06-2.06.94z\"/><path d=\"M17.41 7.96l-1.37-1.37c-.4-.4-.92-.59-1.43-.59-.52 0-1.04.2-1.43.59L10.3 9.45l-7.72 7.72c-.78.78-.78 2.05 0 2.83L4 21.41c.39.39.9.59 1.41.59.51 0 1.02-.2 1.41-.59l7.78-7.78 2.81-2.81c.8-.78.8-2.07 0-2.86zM5.41 20L4 18.59l7.72-7.72 1.47 1.35L5.41 20z\"/>\n",
              "  </svg>\n",
              "      </button>\n",
              "      \n",
              "  <style>\n",
              "    .colab-df-container {\n",
              "      display:flex;\n",
              "      flex-wrap:wrap;\n",
              "      gap: 12px;\n",
              "    }\n",
              "\n",
              "    .colab-df-convert {\n",
              "      background-color: #E8F0FE;\n",
              "      border: none;\n",
              "      border-radius: 50%;\n",
              "      cursor: pointer;\n",
              "      display: none;\n",
              "      fill: #1967D2;\n",
              "      height: 32px;\n",
              "      padding: 0 0 0 0;\n",
              "      width: 32px;\n",
              "    }\n",
              "\n",
              "    .colab-df-convert:hover {\n",
              "      background-color: #E2EBFA;\n",
              "      box-shadow: 0px 1px 2px rgba(60, 64, 67, 0.3), 0px 1px 3px 1px rgba(60, 64, 67, 0.15);\n",
              "      fill: #174EA6;\n",
              "    }\n",
              "\n",
              "    [theme=dark] .colab-df-convert {\n",
              "      background-color: #3B4455;\n",
              "      fill: #D2E3FC;\n",
              "    }\n",
              "\n",
              "    [theme=dark] .colab-df-convert:hover {\n",
              "      background-color: #434B5C;\n",
              "      box-shadow: 0px 1px 3px 1px rgba(0, 0, 0, 0.15);\n",
              "      filter: drop-shadow(0px 1px 2px rgba(0, 0, 0, 0.3));\n",
              "      fill: #FFFFFF;\n",
              "    }\n",
              "  </style>\n",
              "\n",
              "      <script>\n",
              "        const buttonEl =\n",
              "          document.querySelector('#df-ffa7dff0-bc7f-48bd-bfa0-5dd90f7b7a8c button.colab-df-convert');\n",
              "        buttonEl.style.display =\n",
              "          google.colab.kernel.accessAllowed ? 'block' : 'none';\n",
              "\n",
              "        async function convertToInteractive(key) {\n",
              "          const element = document.querySelector('#df-ffa7dff0-bc7f-48bd-bfa0-5dd90f7b7a8c');\n",
              "          const dataTable =\n",
              "            await google.colab.kernel.invokeFunction('convertToInteractive',\n",
              "                                                     [key], {});\n",
              "          if (!dataTable) return;\n",
              "\n",
              "          const docLinkHtml = 'Like what you see? Visit the ' +\n",
              "            '<a target=\"_blank\" href=https://colab.research.google.com/notebooks/data_table.ipynb>data table notebook</a>'\n",
              "            + ' to learn more about interactive tables.';\n",
              "          element.innerHTML = '';\n",
              "          dataTable['output_type'] = 'display_data';\n",
              "          await google.colab.output.renderOutput(dataTable, element);\n",
              "          const docLink = document.createElement('div');\n",
              "          docLink.innerHTML = docLinkHtml;\n",
              "          element.appendChild(docLink);\n",
              "        }\n",
              "      </script>\n",
              "    </div>\n",
              "  </div>\n",
              "  "
            ]
          },
          "metadata": {},
          "execution_count": 8
        }
      ],
      "source": [
        "# Describing the data\n",
        "data.describe()"
      ]
    },
    {
      "cell_type": "markdown",
      "metadata": {
        "id": "ar8_XIlQMZ8P"
      },
      "source": [
        "## - Data Cleaning:\n",
        "**Checking for null values**"
      ]
    },
    {
      "cell_type": "code",
      "execution_count": null,
      "metadata": {
        "id": "xJLhqw0VMZ8P",
        "colab": {
          "base_uri": "https://localhost:8080/"
        },
        "outputId": "f33a70aa-2b9b-4bff-c04b-d1648f77de7a"
      },
      "outputs": [
        {
          "output_type": "execute_result",
          "data": {
            "text/plain": [
              "Hours     0\n",
              "Scores    0\n",
              "dtype: int64"
            ]
          },
          "metadata": {},
          "execution_count": 9
        }
      ],
      "source": [
        "#Write your code here\n",
        "data.isnull().sum()"
      ]
    },
    {
      "cell_type": "markdown",
      "metadata": {
        "id": "xEtvAVzoMZ8Q"
      },
      "source": [
        "#### **Write your observations here:**\n",
        "Dataset contains no null values."
      ]
    },
    {
      "cell_type": "markdown",
      "metadata": {
        "id": "PQO9234gMZ8Q"
      },
      "source": [
        "## - Data Visualization:\n",
        "Plot 2-D graph to find any kind of relationship between the two parameters- **Hours** and **Scores**."
      ]
    },
    {
      "cell_type": "code",
      "execution_count": null,
      "metadata": {
        "id": "o-0hx9JgMZ8Q",
        "colab": {
          "base_uri": "https://localhost:8080/",
          "height": 311
        },
        "outputId": "08cfcfa5-413b-466d-9deb-69f7b5666c9e"
      },
      "outputs": [
        {
          "output_type": "execute_result",
          "data": {
            "text/plain": [
              "<matplotlib.axes._subplots.AxesSubplot at 0x7f29084d8970>"
            ]
          },
          "metadata": {},
          "execution_count": 10
        },
        {
          "output_type": "execute_result",
          "data": {
            "text/plain": [
              "Text(0.5, 1.0, 'Relationship between Hours and Scores')"
            ]
          },
          "metadata": {},
          "execution_count": 10
        },
        {
          "output_type": "display_data",
          "data": {
            "text/plain": [
              "<Figure size 432x288 with 1 Axes>"
            ],
            "image/png": "[encoded data removed]"
          },
          "metadata": {
            "image/png": {
              "width": 382,
              "height": 277
            },
            "needs_background": "light"
          }
        }
      ],
      "source": [
        "#Write your code here\n",
        "plt.figure()\n",
        "data.plot(\"Hours\",\"Scores\", kind=\"scatter\")\n",
        "plt.title(\"Relationship between Hours and Scores\")\n",
        "plt.savefig(\"ccoresVShours.png\")"
      ]
    },
    {
      "cell_type": "markdown",
      "source": [
        "## Find the corelation between the number of hours studied and scores obtained"
      ],
      "metadata": {
        "id": "5_S340A1ZMnK"
      }
    },
    {
      "cell_type": "code",
      "execution_count": null,
      "metadata": {
        "id": "wtzqi3NEMZ8Q",
        "colab": {
          "base_uri": "https://localhost:8080/"
        },
        "outputId": "d14f5243-2e98-4fb4-cb56-21b30fa754a2"
      },
      "outputs": [
        {
          "output_type": "execute_result",
          "data": {
            "text/plain": [
              "0.9761906560220887"
            ]
          },
          "metadata": {},
          "execution_count": 11
        }
      ],
      "source": [
        "#Write your code here\n",
        "data.Hours.corr(data.Scores)"
      ]
    },
    {
      "cell_type": "markdown",
      "metadata": {
        "id": "fqyCsU-YMZ8R"
      },
      "source": [
        "#### **Write your observations here:**\n",
        "The scatterplot of hours and scores shows that there is a positive and linear relationship between hours studied and scores obtained.\n",
        "Moreover, the correlation coefficient is positive and large which depicts that there is postive and strong relationship between hours studied and scores obtained.\n"
      ]
    },
    {
      "cell_type": "markdown",
      "metadata": {
        "id": "_lUSoP0fMZ8R"
      },
      "source": [
        "## - Preparing the data:"
      ]
    },
    {
      "cell_type": "markdown",
      "metadata": {
        "id": "Q9MqMfAkMZ8R"
      },
      "source": [
        "**Split the data for training $80\\%$ and testing $20\\%$**\n"
      ]
    },
    {
      "cell_type": "code",
      "execution_count": null,
      "metadata": {
        "id": "a9--qO_GMZ8S"
      },
      "outputs": [],
      "source": [
        "#Write your code here\n",
        "x_train,x_test,y_train,y_test=train_test_split(data.Hours,data.Scores,test_size=0.2)\n",
        "x_train = np.array(x_train).reshape((-1, 1))\n",
        "x_test = np.array(x_test).reshape((-1, 1))\n",
        "y_train = np.array(y_train)\n",
        "y_test = np.array(y_test)"
      ]
    },
    {
      "cell_type": "markdown",
      "metadata": {
        "id": "ZCZRI03UMZ8S"
      },
      "source": [
        "**Training the data using Linear Regression Algorithm**"
      ]
    },
    {
      "cell_type": "code",
      "execution_count": null,
      "metadata": {
        "id": "3fupQEgBMZ8S",
        "colab": {
          "base_uri": "https://localhost:8080/"
        },
        "outputId": "1cea9696-d2f0-4998-f483-13f4e4dafaa2"
      },
      "outputs": [
        {
          "output_type": "execute_result",
          "data": {
            "text/plain": [
              "LinearRegression()"
            ]
          },
          "metadata": {},
          "execution_count": 14
        },
        {
          "output_type": "stream",
          "name": "stdout",
          "text": [
            "Intercept of linear regression line :  2.003561003839799\n",
            "Coefficient of variable hours in linear model :  [9.96743139]\n"
          ]
        }
      ],
      "source": [
        "#Write your code here\n",
        "model = LinearRegression()\n",
        "model.fit(x_train, y_train)\n",
        "y_pred = model.predict(x_train)\n",
        "\n",
        "# print the coefficients\n",
        "print(\"Intercept of linear regression line : \" ,model.intercept_)\n",
        "print(\"Coefficient of variable hours in linear model : \", model.coef_)"
      ]
    },
    {
      "cell_type": "markdown",
      "source": [
        "### Plot the Linear regression line"
      ],
      "metadata": {
        "id": "i2rs01FnZ59U"
      }
    },
    {
      "cell_type": "code",
      "execution_count": null,
      "metadata": {
        "id": "cAHiJKc1MZ8T",
        "colab": {
          "base_uri": "https://localhost:8080/",
          "height": 328
        },
        "outputId": "e1147d01-b439-47d6-cc19-0ccc7b27fd69"
      },
      "outputs": [
        {
          "output_type": "execute_result",
          "data": {
            "text/plain": [
              "<matplotlib.axes._subplots.AxesSubplot at 0x7f2906d5c9d0>"
            ]
          },
          "metadata": {},
          "execution_count": 25
        },
        {
          "output_type": "execute_result",
          "data": {
            "text/plain": [
              "Text(0.5, 1.0, 'Linear Regression Line')"
            ]
          },
          "metadata": {},
          "execution_count": 25
        },
        {
          "output_type": "execute_result",
          "data": {
            "text/plain": [
              "Text(0.5, 0, 'Hours spent on studying')"
            ]
          },
          "metadata": {},
          "execution_count": 25
        },
        {
          "output_type": "execute_result",
          "data": {
            "text/plain": [
              "Text(0, 0.5, 'Scores')"
            ]
          },
          "metadata": {},
          "execution_count": 25
        },
        {
          "output_type": "display_data",
          "data": {
            "text/plain": [
              "<Figure size 432x288 with 1 Axes>"
            ],
            "image/png": "[encoded data removed]"
          },
          "metadata": {
            "image/png": {
              "width": 382,
              "height": 277
            },
            "needs_background": "light"
          }
        }
      ],
      "source": [
        "#Write your code here\n",
        "sns.regplot(x_train, y_train, ci = None)\n",
        "plt.title(\"Linear Regression Line\")\n",
        "plt.xlabel(\"Hours spent on studying\")\n",
        "plt.ylabel(\"Scores\")"
      ]
    },
    {
      "cell_type": "markdown",
      "source": [
        "#### **Write your observations here:**\n",
        "\n",
        "The above plot clearly shows that distance between points (actual scores) and predicted scores on regression line is quite small which depicts that linear regression model fits the training data."
      ],
      "metadata": {
        "id": "30f7UKuFbHSo"
      }
    },
    {
      "cell_type": "markdown",
      "metadata": {
        "id": "4sN7Fd8VMZ8T"
      },
      "source": [
        "## Making Predictions:\n",
        "Now, we have trained our algorithm, it's time to make some predictions."
      ]
    },
    {
      "cell_type": "markdown",
      "source": [
        "Generate the prediction for Test data set"
      ],
      "metadata": {
        "id": "65PcOtTyaDVj"
      }
    },
    {
      "cell_type": "code",
      "execution_count": null,
      "metadata": {
        "id": "lcg6elCEMZ8T"
      },
      "outputs": [],
      "source": [
        "#Write your code here\n",
        "y_pred_test = model.predict(x_test)"
      ]
    },
    {
      "cell_type": "markdown",
      "source": [
        "### Comparing Actual vs Predicted"
      ],
      "metadata": {
        "id": "9HCeRHT9aK7U"
      }
    },
    {
      "cell_type": "code",
      "execution_count": null,
      "metadata": {
        "id": "HIQ3eUhYMZ8U",
        "colab": {
          "base_uri": "https://localhost:8080/"
        },
        "outputId": "a036ace7-3b45-4e73-89b6-8a07e8701b7d"
      },
      "outputs": [
        {
          "output_type": "stream",
          "name": "stdout",
          "text": [
            "Actual Predicted\n",
            "21     26.92\n",
            "76     70.78\n",
            "54     49.85\n",
            "75     86.73\n",
            "81     84.73\n",
            "\n",
            "Residual\n",
            "[-5.92, 5.22, 4.15, -11.73, -3.73]\n"
          ]
        }
      ],
      "source": [
        "#Write your code here\n",
        "#Table for actual and predicted\n",
        "print(\"Actual\",\"Predicted\")\n",
        "res = \"\\n\".join(\"{}     {}\".format(x, round(y, 2)) for x, y in zip(y_test, y_pred_test))\n",
        "print(res)\n",
        "#reisdual to compare the actual vs predicted\n",
        "print(\"\\nResidual\")\n",
        "residual = y_test - y_pred_test\n",
        "print([round(elem, 2) for elem in residual])"
      ]
    },
    {
      "cell_type": "markdown",
      "source": [
        "### What is the accuracy of training and testing data"
      ],
      "metadata": {
        "id": "-1nZnY0ZaS6t"
      }
    },
    {
      "cell_type": "code",
      "execution_count": null,
      "metadata": {
        "id": "9WE98GDKMZ8U",
        "colab": {
          "base_uri": "https://localhost:8080/"
        },
        "outputId": "95030925-7718-4ca8-fe36-57b665bdc7f1"
      },
      "outputs": [
        {
          "output_type": "stream",
          "name": "stdout",
          "text": [
            "For Testing Data : 0.906\n",
            "For Training Data : 0.959\n"
          ]
        }
      ],
      "source": [
        "#Write your code here\n",
        "score = model.score(x_test, y_test)\n",
        "print(\"For Testing Data :\" ,round(score,3))\n",
        "\n",
        "score = model.score(x_train, y_train)\n",
        "print(\"For Training Data :\" ,round(score,3))"
      ]
    },
    {
      "cell_type": "markdown",
      "source": [
        "#### **Write your observations here:**\n",
        "\n",
        "* Accuracy measure is used for classification models, so here for linear regression model, r-squared score is calculated to measure goodness of fit of model. \n",
        "* For testing dataset, 90.6% of variance in scores obtained by student is explained by model whereas for testing dataset 95.9% of variance in scores is explained by model.\n",
        "* However, the r squared value for both training and testing dataset is close to 1 which depicts that linear regression model is good fit for both training and testing data.\n",
        "\n"
      ],
      "metadata": {
        "id": "rIwJ1C6RbKOI"
      }
    },
    {
      "cell_type": "markdown",
      "source": [
        "### Now, generate the prediction for study hours 9.25"
      ],
      "metadata": {
        "id": "6XrmFey_aaGc"
      }
    },
    {
      "cell_type": "code",
      "execution_count": null,
      "metadata": {
        "id": "y9yMgVi_MZ8V",
        "colab": {
          "base_uri": "https://localhost:8080/"
        },
        "outputId": "0b24c6ca-59a5-4aa2-8283-4f70d62e43d7"
      },
      "outputs": [
        {
          "output_type": "stream",
          "name": "stdout",
          "text": [
            "Predicted scores after studing for 9.25 hours is 94.202\n"
          ]
        }
      ],
      "source": [
        "#Write your code here\n",
        "pred_score = model.predict(np.array([9.25]).reshape(-1,1))\n",
        "print(\"Predicted scores after studying for 9.25 hours is\", round(pred_score[0],3))"
      ]
    },
    {
      "cell_type": "markdown",
      "metadata": {
        "id": "WvActpeHMZ8V"
      },
      "source": [
        "### - Evaluating the Model:\n",
        "The final step is to evaluate the performance of algorithm.This step is particularly important to compare how well different<br>\n",
        "algorithms perform on a particular dataset."
      ]
    },
    {
      "cell_type": "markdown",
      "source": [
        "- How much Mean Absolute Error?\n",
        "- How much Mean Squared Error?\n",
        "- How much Root Mean Squared Error:?\n",
        "- How much $R^2$?"
      ],
      "metadata": {
        "id": "yEyeL9mbaqNk"
      }
    },
    {
      "cell_type": "code",
      "execution_count": null,
      "metadata": {
        "id": "x5zMFxTaMZ8V",
        "colab": {
          "base_uri": "https://localhost:8080/"
        },
        "outputId": "1a99db32-64c1-47c9-9466-9748459dbaf9"
      },
      "outputs": [
        {
          "output_type": "stream",
          "name": "stdout",
          "text": [
            "Mean Absolute Error : 6.151207911088965\n",
            "Mean Squared Error : 46.20619901389564\n",
            "Root mean squared  Error: 6.797514179013946\n",
            "R^2 :  0.9064348796899894\n"
          ]
        }
      ],
      "source": [
        "#Write your code here\n",
        "print(\"Mean Absolute Error :\", metrics.mean_absolute_error(y_test,y_pred_test))\n",
        "print(\"Mean Squared Error :\",metrics.mean_squared_error(y_test, y_pred_test))\n",
        "print(\"Root mean squared  Error:\",np.sqrt(metrics.mean_squared_error(y_test, y_pred_test)))\n",
        "print(\"R^2 : \", metrics.r2_score(y_test, y_pred_test))"
      ]
    },
    {
      "cell_type": "markdown",
      "source": [
        "#### **Write your observations here:**\n",
        "\n",
        "* Mean Absolute Error is absolute error between actual scores and predicted scores based on parameter hours spent on studying. The mean absolute error between predicted scores and actual scores is 6.15 which is quite good.\n",
        "\n",
        "* Mean Squared Error measures average squared difference between actual scores and predicted scores. The mean squared error for linear regression model for predicting scores is 46.21\n",
        "\n",
        "* Root Mean Squared Error is square root of mean squared error between actual and predicted scored by model. The root mean squared error is 6.798.\n",
        "\n",
        "* 90.6% of variance in scores obtained by student is explained by model. Therefore, r squared value is close to 1 which depicts that linear regression model is good fit.\n"
      ],
      "metadata": {
        "id": "_YjMdoXLbL9u"
      }
    },
    {
      "cell_type": "markdown",
      "metadata": {
        "id": "NL16IjRJMZ8V"
      },
      "source": [
        "### - Conclusion:"
      ]
    },
    {
      "cell_type": "markdown",
      "source": [
        "#### **Write your Answer here:**\n",
        "\n",
        "To conclude, the linear regression model has r squared value close to 1 which shows that maximum variance in scores obtained is explained by model and this model also have low mean abosolute error and root mean squared error which is less than 7. Hence, the linear regression model is good fit for predicting scores obtained based on hours spent on studying by student.\n",
        "\n",
        "The final linear regression model is : \n",
        "scores obtained = 2.0035 + 9.97 (Hours spent on studying)"
      ],
      "metadata": {
        "id": "o8KwMgU4bPKb"
      }
    }
  ],
  "metadata": {
    "kernelspec": {
      "display_name": "Python 3",
      "language": "python",
      "name": "python3"
    },
    "language_info": {
      "codemirror_mode": {
        "name": "ipython",
        "version": 3
      },
      "file_extension": ".py",
      "mimetype": "text/x-python",
      "name": "python",
      "nbconvert_exporter": "python",
      "pygments_lexer": "ipython3",
      "version": "3.7.3"
    },
    "colab": {
      "provenance": [],
      "include_colab_link": true
    }
  },
  "nbformat": 4,
  "nbformat_minor": 0
}